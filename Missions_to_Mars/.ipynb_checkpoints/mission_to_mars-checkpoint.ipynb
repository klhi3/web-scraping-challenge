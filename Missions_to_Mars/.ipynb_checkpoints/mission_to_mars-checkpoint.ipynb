{
 "cells": [
  {
   "cell_type": "code",
   "execution_count": 464,
   "metadata": {},
   "outputs": [],
   "source": [
    "#BeautifulSoup, Pandas, and Requests/Splinter.\n",
    "from bs4 import BeautifulSoup\n",
    "from splinter import Browser\n",
    "import lxml\n",
    "import html5lib\n",
    "import requests\n",
    "import pandas as pd"
   ]
  },
  {
   "cell_type": "code",
   "execution_count": 465,
   "metadata": {},
   "outputs": [],
   "source": [
    "# URL of page to be scraped\n",
    "url='https://mars.nasa.gov/news/'"
   ]
  },
  {
   "cell_type": "code",
   "execution_count": 466,
   "metadata": {},
   "outputs": [],
   "source": [
    "# Retrieve page with the requests module\n",
    "response = requests.get(url)"
   ]
  },
  {
   "cell_type": "code",
   "execution_count": 467,
   "metadata": {
    "scrolled": true
   },
   "outputs": [],
   "source": [
    "# Create BeautifulSoup object; parse with html\n",
    "soup = BeautifulSoup(response.text, 'html.parser')"
   ]
  },
  {
   "cell_type": "code",
   "execution_count": 468,
   "metadata": {},
   "outputs": [],
   "source": [
    "# Retrieve the parent divs for all articles\n",
    "results = soup.find_all('div', class_='slide')"
   ]
  },
  {
   "cell_type": "code",
   "execution_count": 469,
   "metadata": {
    "scrolled": false
   },
   "outputs": [],
   "source": [
    "#check first element\n",
    "#results[0]"
   ]
  },
  {
   "cell_type": "code",
   "execution_count": 470,
   "metadata": {},
   "outputs": [
    {
     "name": "stdout",
     "output_type": "stream",
     "text": [
      "1 .   NASA Invites Students to Name Mars 2020 Rover   =  Through Nov. 1, K-12 students in the U.S. are encouraged to enter an essay contest to name NASA's next Mars rover. \n",
      "2 .   NASA's Curiosity Mars Rover Finds a Clay Cache   =  The rover recently drilled two samples, and both showed the highest levels of clay ever found during the mission. \n",
      "3 .   Why This Martian Full Moon Looks Like Candy   =  For the first time, NASA's Mars Odyssey orbiter has caught the Martian moon Phobos during a full moon phase. Each color in this new image represents a temperature range detected by Odyssey's infrared camera. \n",
      "4 .   NASA Garners 7 Webby Award Nominations   =  Nominees include four JPL projects: the solar system and climate websites, InSight social media, and a 360-degree Earth video. Public voting closes April 18, 2019. \n",
      "5 .   NASA's Opportunity Rover Mission on Mars Comes to End   =  NASA's Opportunity Mars rover mission is complete after 15 years on Mars. Opportunity's record-breaking exploration laid the groundwork for future missions to the Red Planet. \n",
      "6 .   NASA's InSight Places First Instrument on Mars   =  In deploying its first instrument onto the surface of Mars, the lander completes a major mission milestone. \n"
     ]
    }
   ],
   "source": [
    "#create list for elements\n",
    "list1 = []\n",
    "\n",
    "# Loop through results to retrieve article title, header, and timestamp of article\n",
    "for result in results:\n",
    "\n",
    "    news_p = result.find('div', class_='rollover_description_inner').text.replace('\\n', ' ').replace('\\r', ' ')\n",
    "    news_title = result.find('div', class_='content_title').text.replace('\\n', ' ').replace('\\r', ' ')\n",
    "\n",
    "    record = {\n",
    "      'title':news_title,\n",
    "      'content':news_p\n",
    "     }\n",
    "    list1.append(record)\n",
    "\n",
    "for i in range(len(list1)):\n",
    "    print(i+1,\".\",list1[i]['title'],\"=\",list1[i]['content'])"
   ]
  },
  {
   "cell_type": "code",
   "execution_count": 471,
   "metadata": {},
   "outputs": [],
   "source": [
    "#with splinter\n",
    "executable_path = {'executable_path': 'chromedriver.exe'}\n",
    "browser = Browser('chrome', **executable_path, headless=False)"
   ]
  },
  {
   "cell_type": "code",
   "execution_count": 472,
   "metadata": {},
   "outputs": [],
   "source": [
    "# new site\n",
    "\n",
    "browser.visit(url)\n",
    "html = browser.html\n",
    "soup1 = BeautifulSoup(html, 'html.parser')"
   ]
  },
  {
   "cell_type": "code",
   "execution_count": 473,
   "metadata": {},
   "outputs": [],
   "source": [
    "#soup1"
   ]
  },
  {
   "cell_type": "code",
   "execution_count": 474,
   "metadata": {},
   "outputs": [],
   "source": [
    "# \n",
    "results2 = soup1.find_all('li', class_='slide')\n",
    "#results2[0]"
   ]
  },
  {
   "cell_type": "code",
   "execution_count": 475,
   "metadata": {
    "scrolled": false
   },
   "outputs": [
    {
     "name": "stdout",
     "output_type": "stream",
     "text": [
      "1 . Mars 2020 Unwrapped and Ready for More Testing =\n",
      "    In time-lapse video, bunny-suited engineers remove the inner layer of protective foil on NASA's Mars 2020 rover after it was relocated for testing.\n",
      "2 . Mars InSight's 'Mole' Is Moving Again =\n",
      "    The NASA lander's robotic arm seems to have helped its heat probe burrow almost 2 centimeters (3/4 of an inch) since last week.\n",
      "3 . HiRISE Views NASA's InSight and Curiosity on Mars =\n",
      "    New images taken from space offer the clearest orbital glimpse yet of InSight as well as a view of Curiosity rolling along.\n",
      "4 . NASA's Curiosity Rover Finds an Ancient Oasis on Mars =\n",
      "    New evidence suggests salty, shallow ponds once dotted a Martian crater — a sign of the planet's drying climate.\n",
      "5 . NASA's Mars 2020 Rover Tests Descent-Stage Separation =\n",
      "    A crane lifts the rocket-powered descent stage away from NASA's Mars 2020 rover after technicians tested the pyrotechnic charges that separate the two spacecraft.\n",
      "6 . NASA's Push to Save the Mars InSight Lander's Heat Probe =\n",
      "    The scoop on the end of the spacecraft's robotic arm will be used to 'pin' the mole against the wall of its hole.\n",
      "7 . NASA's InSight 'Hears' Peculiar Sounds on Mars =\n",
      "    Listen to the marsquakes and other, less-expected sounds that the Mars lander has been detecting.\n",
      "8 . NASA Mars Mission Connects With Bosnian and Herzegovinian Town =\n",
      "    A letter from NASA was presented to the mayor of Jezero, Bosnia-Herzegovina, honoring the connection between the town and Jezero Crater, the Mars 2020 rover landing site.\n",
      "9 . Deadline Closing for Names to Fly on NASA's Next Mars Rover =\n",
      "    You have until Sept. 30 to send your names to Mars aboard the Mars 2020 rover. \n",
      "10 . NASA Wins Two Emmy Awards for Interactive Mission Coverage =\n",
      "    NASA-JPL's coverage of the Mars InSight landing earns one of the two wins, making this the NASA center's second Emmy.\n",
      "11 . NASA's Mars 2020 Comes Full Circle =\n",
      "    Aiming to pinpoint the Martian vehicle's center of gravity, engineers took NASA's 2,300-pound Mars 2020 rover for a spin in the clean room at JPL. \n",
      "12 . NASA Invites Students to Name Mars 2020 Rover =\n",
      "    Through Nov. 1, K-12 students in the U.S. are encouraged to enter an essay contest to name NASA's next Mars rover.\n",
      "13 . NASA's Mars Helicopter Attached to Mars 2020 Rover  =\n",
      "    The helicopter will be first aircraft to perform flight tests on another planet.\n",
      "14 . What's Mars Solar Conjunction, and Why Does It Matter? =\n",
      "    NASA spacecraft at Mars are going to be on their own for a few weeks when the Sun comes between Mars and Earth, interrupting communications.\n",
      "15 . Scientists Explore Outback as Testbed for Mars  =\n",
      "    Australia provides a great place for NASA's Mars 2020 and the ESA-Roscosmos ExoMars scientists to hone techniques in preparation for searching for signs ancient life on Mars.\n",
      "16 . NASA-JPL Names 'Rolling Stones Rock' on Mars =\n",
      "    NASA's Mars InSight mission honored one of the biggest bands of all time at Pasadena concert.\n",
      "17 . Robotic Toolkit Added to NASA's Mars 2020 Rover =\n",
      "    The bit carousel, which lies at the heart of the rover's Sample Caching System, is now aboard NASA's newest rover. \n",
      "18 . Space Samples Link NASA's Apollo 11 and Mars 2020 =\n",
      "    While separated by half a century, NASA's Apollo 11 and Mars 2020 missions share the same historic goal: returning samples to Earth.\n",
      "19 . Small Satellite Mission of the Year =\n",
      "    The first interplanetary CubeSats were recognized by the engineering community with the 2019 Small Satellite Mission of the Year award.\n",
      "20 . NASA 'Optometrists' Verify Mars 2020 Rover's 20/20 Vision =\n",
      "    Mars 2020 rover underwent an eye exam after several cameras were installed on the rover.\n",
      "21 . New Finds for Mars Rover, Seven Years After Landing =\n",
      "    NASA's Curiosity rover is discovering odd rocks halfway into a region called the \"clay-bearing unit.\"\n",
      "22 . MEDLI2 Installation on Mars 2020 Aeroshell Begins =\n",
      "    Hardware installed onto NASA's Mars 2020 entry vehicle this week will help to increase the safety of future Mars landings.\n",
      "23 . NASA's Mars 2020 Rover Does Biceps Curls  =\n",
      "    In this time-lapse video, the robotic arm on NASA's Mars 2020 rover maneuvers its 88-pound (40-kilogram) sensor-laden turret as it moves from a deployed to stowed configuration.\n",
      "24 . Fueling of NASA's Mars 2020 Rover Power System Begins =\n",
      "    NASA gives the go-ahead to fuel the Mars 2020 rover's Multi-Mission Radioisotope Thermoelectric Generator, which will power rover and help keep it warm while exploring Mars.\n",
      "25 . What Does a Marsquake Look Like? =\n",
      "    InSight scientists used a special \"shake room\" to demonstrate the differences between quakes on Earth, the Moon and Mars.\n",
      "26 . Mars 2020 Rover: T-Minus One Year and Counting  =\n",
      "    The launch period for NASA's next rover, Mars 2020, opens exactly one year from today, July 17, 2020, and extends through Aug. 5, 2020.\n",
      "27 . NASA Racks Up Two Emmy Nominations for Mission Coverage =\n",
      "    JPL's coverage of the Mars InSight mission is among the efforts that will be up for an award in mid-September.\n",
      "28 . Want to Colonize Mars? Aerogel Could Help =\n",
      "    Researchers are studying whether a wonder material used in Mars rovers could help warm parts of the Red Planet rich in water ice.\n",
      "29 . A Rover Pit Stop at JPL =\n",
      "    Working like a finely honed machine, a team of engineers in this time-lapse video clip install test wheels on another finely honed machine: NASA's Mars 2020 rover.\n",
      "30 . Mars 2020 Rover Gets a Super Instrument =\n",
      "    With its rock-zapping laser, the SuperCam will enable the science team to identify the chemical and mineral makeup of its targets on the Red Planet.\n",
      "31 . A Neil Armstrong for Mars: Landing the Mars 2020 Rover =\n",
      "    NASA's newest rover will have an autopilot called Terrain-Relative Navigation.\n",
      "32 . NASA's InSight Uncovers the 'Mole'  =\n",
      "    The lander's robotic arm has successfully removed a piece of hardware blocking the view of its digging device in order to help with recovery efforts.\n",
      "33 . Mars 2020 Rover's 7-Foot-Long Robotic Arm Installed =\n",
      "    The main robotic arm has been installed on NASA's newest rover. When complete, the arm will enable the rover to hold and use science tools like a human geologist would.\n",
      "34 . NASA Selects Partners for Mars 2020 'Name the Rover' Contest, Seeks Judges =\n",
      "    The contest for U.S. schoolchildren will open in fall 2019, but judges can sign up now.\n",
      "35 . Curiosity's Mars Methane Mystery Continues =\n",
      "    The Curiosity rover’s follow-on sampling shows last week’s methane levels have sharply decreased.\n",
      "36 . Mars 2020 Rover Gets Its Wheels =\n",
      "    With the mobility suspension in place, the rover not only looks more like a rover but has many of its 'big-ticket items' installed.\n",
      "37 . The Mast Is Raised for NASA's Mars 2020 Rover =\n",
      "    Engineers at JPL take a group selfie after attaching the remote sensing mast to the Mars 2020 rover.\n",
      "38 . NASA's Mars 2020 Will Blaze a Trail — for Humans =\n",
      "    The next robotic Mars mission will carry technology that will help enable astronauts to eventually explore the Red Planet.\n",
      "39 . Johnson-Built Device to Help Mars 2020 Rover Search for Signs of Life =\n",
      "    NASA’s Johnson Space Center (JSC) recently built a new calibration device for the rover to check SHERLOC’s function and properly tune it during the upcoming mission.\n",
      "40 . Watch NASA Build Its Next Mars Rover =\n",
      "    A newly installed webcam offers the public a live, bird's-eye view of NASA's Mars 2020 rover as it takes shape at NASA's Jet Propulsion Laboratory. \n"
     ]
    }
   ],
   "source": [
    "#create list for elements\n",
    "list2 = []\n",
    "\n",
    "# Loop through results to retrieve article title, header, and timestamp of article\n",
    "for result in results2:\n",
    "\n",
    "    news_title = result.find('div', class_='content_title').text.replace('\\n', ' ').replace('\\r', ' ')\n",
    "    news_p = result.find('div', class_='article_teaser_body').text.replace('\\n', ' ').replace('\\r', ' ')\n",
    " \n",
    "    record = {\n",
    "      'title':news_title,\n",
    "      'content':news_p\n",
    "     }\n",
    "    list2.append(record)\n",
    " \n",
    "for i in range(len(list2)):\n",
    "    print(i+1,\".\",list2[i]['title'],\"=\")\n",
    "    print(\"   \",list2[i]['content'])"
   ]
  },
  {
   "cell_type": "code",
   "execution_count": null,
   "metadata": {},
   "outputs": [],
   "source": [
    "#######################################################################"
   ]
  },
  {
   "cell_type": "code",
   "execution_count": 476,
   "metadata": {},
   "outputs": [],
   "source": [
    "# new site  : JPL image\n",
    "executable_path = {'executable_path': 'chromedriver.exe'}\n",
    "browser = Browser('chrome', **executable_path, headless=False)\n",
    "url = 'https://www.jpl.nasa.gov/spaceimages/?search=&category=Mars'\n",
    "browser.visit(url)\n",
    "html = browser.html\n",
    "soup3 = BeautifulSoup(html, 'html.parser')"
   ]
  },
  {
   "cell_type": "code",
   "execution_count": 477,
   "metadata": {},
   "outputs": [],
   "source": [
    "#soup3"
   ]
  },
  {
   "cell_type": "code",
   "execution_count": 478,
   "metadata": {},
   "outputs": [],
   "source": [
    "results3 = soup3.find_all('a',class_='fancybox')\n",
    "#results3"
   ]
  },
  {
   "cell_type": "code",
   "execution_count": 479,
   "metadata": {
    "scrolled": true
   },
   "outputs": [
    {
     "data": {
      "text/plain": [
       "<a class=\"fancybox\" data-description=\"This animation shows NASA InSights heat probe, or mole, digging about a centimeter (half an inch) below the surface.\" data-fancybox-group=\"images\" data-fancybox-href=\"/spaceimages/images/largesize/PIA23379_hires.jpg\" data-link=\"/spaceimages/details.php?id=PIA23379\" data-thumbnail=\"/spaceimages/images/wallpaper/PIA23379-640x350.jpg\" data-title=\"Pinning Helps the Mole Move\">\n",
       "<div class=\"image_and_description_container\">\n",
       "<div class=\"rollover_description\">\n",
       "<h3 class=\"release_date\">October 17, 2019</h3>\n",
       "<div class=\"item_tease_overlay\">Pinning Helps the Mole Move</div>\n",
       "<div class=\"overlay_arrow\">\n",
       "<img alt=\"more arrow\" src=\"/assets/images/overlay-arrow.png\"/>\n",
       "</div>\n",
       "</div>\n",
       "<div class=\"img\">\n",
       "<img alt=\"Pinning Helps the Mole Move\" class=\"thumb\" src=\"/spaceimages/images/wallpaper/PIA23379-640x350.jpg\" title=\"Pinning Helps the Mole Move\"/>\n",
       "</div>\n",
       "<div class=\"list_text_content\">\n",
       "<div class=\"article_teaser_body\">October 17, 2019</div>\n",
       "<div class=\"content_title\">\n",
       "\t\t\t\t\t\t\t\t\t\t  Pinning Helps the Mole Move\n",
       "\t\t\t\t\t\t\t\t\t\t</div>\n",
       "<div class=\"article_teaser_body\">\n",
       "\t\t\t\t\t\t\t\t\t\t  This animation shows NASA InSights heat probe, or mole, digging about a centimeter (half an inch) below the surface.\n",
       "\t\t\t\t\t\t\t\t\t\t</div>\n",
       "</div>\n",
       "</div>\n",
       "</a>"
      ]
     },
     "execution_count": 479,
     "metadata": {},
     "output_type": "execute_result"
    }
   ],
   "source": [
    "results3[1]"
   ]
  },
  {
   "cell_type": "code",
   "execution_count": 480,
   "metadata": {
    "scrolled": true
   },
   "outputs": [],
   "source": [
    "list3 = []\n",
    "\n",
    "url2=\"https://www.jpl.nasa.gov/\"\n",
    "\n",
    "#select only large image\n",
    "for x in results3:\n",
    "    w = x['data-fancybox-href']\n",
    "    y = w.find('largesize')\n",
    "    if (y>0) :\n",
    "        list3.append(url2+w[1:])    # extract \"/\"  "
   ]
  },
  {
   "cell_type": "code",
   "execution_count": 481,
   "metadata": {
    "scrolled": true
   },
   "outputs": [
    {
     "name": "stdout",
     "output_type": "stream",
     "text": [
      "featured_image_url = https://www.jpl.nasa.gov/spaceimages/images/largesize/PIA23379_hires.jpg\n"
     ]
    }
   ],
   "source": [
    "#for x in list3:\n",
    "#    print(\"featured_image_url=\",x)\n",
    "print(\"featured_image_url =\",list3[0])"
   ]
  },
  {
   "cell_type": "code",
   "execution_count": null,
   "metadata": {},
   "outputs": [],
   "source": [
    "########################################################"
   ]
  },
  {
   "cell_type": "code",
   "execution_count": null,
   "metadata": {},
   "outputs": [],
   "source": []
  }
 ],
 "metadata": {
  "kernelspec": {
   "display_name": "Python 3",
   "language": "python",
   "name": "python3"
  },
  "language_info": {
   "codemirror_mode": {
    "name": "ipython",
    "version": 3
   },
   "file_extension": ".py",
   "mimetype": "text/x-python",
   "name": "python",
   "nbconvert_exporter": "python",
   "pygments_lexer": "ipython3",
   "version": "3.7.3"
  }
 },
 "nbformat": 4,
 "nbformat_minor": 2
}
